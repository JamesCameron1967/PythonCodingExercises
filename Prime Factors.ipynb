{
 "cells": [
  {
   "cell_type": "markdown",
   "metadata": {},
   "source": [
    "# Factorisation\n",
    "\n",
    "This script finds the prime factors of a given integer."
   ]
  },
  {
   "cell_type": "code",
   "execution_count": 2,
   "metadata": {},
   "outputs": [
    {
     "name": "stdout",
     "output_type": "stream",
     "text": [
      "Please enter an integer: 169\n",
      "[13, 13]\n"
     ]
    }
   ],
   "source": [
    "def is_prime(n):\n",
    "    '''\n",
    "    is_prime: determines whether a given number is prime or not\n",
    "    \n",
    "    input: integer\n",
    "    \n",
    "    Output: True or False\n",
    "    '''\n",
    "    for factor in range(2, int(n ** 0.5) + 1):\n",
    "        if n % factor == 0:\n",
    "            return False\n",
    "    \n",
    "    return True\n",
    "\n",
    "\n",
    "number = 0\n",
    "\n",
    "while number == 0:\n",
    "    try:\n",
    "        number = int(input(\"Please enter an integer: \"))\n",
    "    except ValueError:\n",
    "        print(\"You have not entered an integer.\\nPlease try again.\")\n",
    "        \n",
    "factors = []\n",
    "\n",
    "if is_prime(number):\n",
    "    factors.append(number)\n",
    "else:\n",
    "    limit = int(number ** 0.5)\n",
    "    \n",
    "    for check in range(2, limit+1):\n",
    "        if is_prime(check):\n",
    "            while number % check == 0:\n",
    "                factors.append(check)\n",
    "                number = number // check\n",
    "                if is_prime(number):\n",
    "                    factors.append(number)  \n",
    "                    break\n",
    "            \n",
    "print(factors)"
   ]
  },
  {
   "cell_type": "code",
   "execution_count": null,
   "metadata": {},
   "outputs": [],
   "source": []
  }
 ],
 "metadata": {
  "kernelspec": {
   "display_name": "Python 3",
   "language": "python",
   "name": "python3"
  },
  "language_info": {
   "codemirror_mode": {
    "name": "ipython",
    "version": 3
   },
   "file_extension": ".py",
   "mimetype": "text/x-python",
   "name": "python",
   "nbconvert_exporter": "python",
   "pygments_lexer": "ipython3",
   "version": "3.7.1"
  }
 },
 "nbformat": 4,
 "nbformat_minor": 2
}
