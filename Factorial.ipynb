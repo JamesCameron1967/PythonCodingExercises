{
 "cells": [
  {
   "cell_type": "markdown",
   "metadata": {},
   "source": [
    "# Factorial Finder\n",
    "\n",
    "Finds the factorial of an integer, using both loops and recursion"
   ]
  },
  {
   "cell_type": "code",
   "execution_count": 5,
   "metadata": {},
   "outputs": [
    {
     "name": "stdout",
     "output_type": "stream",
     "text": [
      "Enter an integer: 6\n",
      "Loop:      6! = 720\n",
      "Recursion: 6! = 720\n"
     ]
    }
   ],
   "source": [
    "def loop_factorial(n):\n",
    "    '''\n",
    "        loop_factorial: Calculate factorial of number\n",
    "        \n",
    "        input: integer n\n",
    "        \n",
    "        output: n!\n",
    "    '''\n",
    "    \n",
    "    fact = 1\n",
    "    \n",
    "    for i in range(1, n + 1):\n",
    "        fact = fact * i\n",
    "        \n",
    "    return(fact)\n",
    "\n",
    "\n",
    "def recursive_factorial(n):\n",
    "    '''\n",
    "        loop_factorial: Calculate factorial of number\n",
    "        \n",
    "        input: integer n\n",
    "        \n",
    "        output: n!\n",
    "    '''\n",
    "    \n",
    "    if n == 0:\n",
    "        return(1)\n",
    "    else:\n",
    "        return n * recursive_factorial(n - 1)\n",
    "    \n",
    "    \n",
    "number = -1\n",
    "\n",
    "while number < 0:\n",
    "    try:\n",
    "        number = int(input(\"Enter an integer: \"))\n",
    "        if number < 0:\n",
    "            print(\"You have not entered a positive integer.\\nPlease try again,\")\n",
    "            \n",
    "    except ValueError:\n",
    "        print(\"You have not entered an integer.\\nPlease try again.\")\n",
    "        \n",
    "    print(\"Loop:      {}! = {}\".format(number, loop_factorial(number)))\n",
    "    print(\"Recursion: {}! = {}\".format(number, recursive_factorial(number)))\n"
   ]
  },
  {
   "cell_type": "code",
   "execution_count": null,
   "metadata": {},
   "outputs": [],
   "source": []
  }
 ],
 "metadata": {
  "kernelspec": {
   "display_name": "Python 3",
   "language": "python",
   "name": "python3"
  },
  "language_info": {
   "codemirror_mode": {
    "name": "ipython",
    "version": 3
   },
   "file_extension": ".py",
   "mimetype": "text/x-python",
   "name": "python",
   "nbconvert_exporter": "python",
   "pygments_lexer": "ipython3",
   "version": "3.7.1"
  }
 },
 "nbformat": 4,
 "nbformat_minor": 2
}
